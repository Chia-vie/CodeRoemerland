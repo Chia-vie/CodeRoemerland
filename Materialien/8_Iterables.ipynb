{
 "cells": [
  {
   "cell_type": "markdown",
   "metadata": {
    "collapsed": true,
    "pycharm": {
     "name": "#%% md\n"
    }
   },
   "source": [
    "# Iterables\n",
    "Ein iterable (= wiederholbar) ist ein Objekt, das seine einzelnen Elemente\n",
    "nacheinander ausgeben kann. Ein iterable kann z.B. in einer for-Schleife benutzt werden.\n",
    "\n",
    "Wir kennen z.B. schon den range() Befehl. Er erzeugt ein Iterable."
   ]
  },
  {
   "cell_type": "code",
   "execution_count": null,
   "outputs": [],
   "source": [
    "for i in range(10):\n",
    "    print(i)"
   ],
   "metadata": {
    "collapsed": false,
    "pycharm": {
     "name": "#%%\n"
    }
   }
  },
  {
   "cell_type": "markdown",
   "source": [
    "Die Einträge von Listen können auch nacheinander ausgegeben werden:"
   ],
   "metadata": {
    "collapsed": false,
    "pycharm": {
     "name": "#%% md\n"
    }
   }
  },
  {
   "cell_type": "code",
   "execution_count": null,
   "outputs": [],
   "source": [
    "zahlen = [1,2,3,4,5]\n",
    "for num in zahlen:\n",
    "    print(num)\n",
    "\n",
    "tiere = ['Maus','Katze','Hund']\n",
    "for tier in tiere:\n",
    "    print(tier)"
   ],
   "metadata": {
    "collapsed": false,
    "pycharm": {
     "name": "#%%\n"
    }
   }
  },
  {
   "cell_type": "markdown",
   "source": [
    "Auch die Einträge von dictionaries können nacheinander ausgegeben werden:"
   ],
   "metadata": {
    "collapsed": false,
    "pycharm": {
     "name": "#%% md\n"
    }
   }
  },
  {
   "cell_type": "code",
   "execution_count": 7,
   "outputs": [
    {
     "name": "stdout",
     "output_type": "stream",
     "text": [
      "Name : Anika\n",
      "Alter : 14\n",
      "weiblich : True\n",
      "Geschwister : ['Ralf', 'Laura']\n",
      "Lieblingsfarbe : blau\n"
     ]
    }
   ],
   "source": [
    "person = {'Name':'Anika','Alter': 14, 'weiblich': True, 'Geschwister': ['Ralf','Laura'],\n",
    "          'Lieblingsfarbe': 'blau'}\n",
    "for key in person:\n",
    "    print('{} : {}'.format(key, person[key]))"
   ],
   "metadata": {
    "collapsed": false,
    "pycharm": {
     "name": "#%%\n"
    }
   }
  },
  {
   "cell_type": "markdown",
   "source": [
    "Es gibt noch weitere Datentypen die wir bis jetzt noch nicht besprochen haben:\n",
    "Tupel:"
   ],
   "metadata": {
    "collapsed": false,
    "pycharm": {
     "name": "#%% md\n"
    }
   }
  },
  {
   "cell_type": "code",
   "execution_count": 9,
   "outputs": [
    {
     "name": "stdout",
     "output_type": "stream",
     "text": [
      "Eine Maus ist:\n",
      "grau\n",
      "klein\n"
     ]
    }
   ],
   "source": [
    "maus = ('grau','klein')\n",
    "print('Eine Maus ist:')\n",
    "for eigenschaft in maus:\n",
    "    print(eigenschaft)"
   ],
   "metadata": {
    "collapsed": false,
    "pycharm": {
     "name": "#%%\n"
    }
   }
  },
  {
   "cell_type": "markdown",
   "source": [
    "Set:"
   ],
   "metadata": {
    "collapsed": false,
    "pycharm": {
     "name": "#%% md\n"
    }
   }
  },
  {
   "cell_type": "code",
   "execution_count": 10,
   "outputs": [
    {
     "name": "stdout",
     "output_type": "stream",
     "text": [
      "True\n",
      "1\n",
      "ja\n"
     ]
    }
   ],
   "source": [
    "ok = {'True',1,'ja'}\n",
    "for item in ok:\n",
    "    print(item)"
   ],
   "metadata": {
    "collapsed": false,
    "pycharm": {
     "name": "#%%\n"
    }
   }
  },
  {
   "cell_type": "markdown",
   "source": [
    "Eine liste aus einem Iterable konstruieren:"
   ],
   "metadata": {
    "collapsed": false,
    "pycharm": {
     "name": "#%% md\n"
    }
   }
  },
  {
   "cell_type": "code",
   "execution_count": 11,
   "outputs": [
    {
     "name": "stdout",
     "output_type": "stream",
     "text": [
      "['a', 'b', 'c', 'd', 'e', 'f', 'g']\n"
     ]
    }
   ],
   "source": [
    "alphabet = list('abcdefg')\n",
    "print(alphabet)"
   ],
   "metadata": {
    "collapsed": false,
    "pycharm": {
     "name": "#%%\n"
    }
   }
  },
  {
   "cell_type": "markdown",
   "source": [
    "Summieren, Minimum, Maximum, sortieren"
   ],
   "metadata": {
    "collapsed": false,
    "pycharm": {
     "name": "#%% md\n"
    }
   }
  },
  {
   "cell_type": "code",
   "execution_count": 17,
   "outputs": [
    {
     "name": "stdout",
     "output_type": "stream",
     "text": [
      "42\n",
      "1\n",
      "9\n",
      "[1, 2, 4, 5, 6, 7, 8, 9]\n"
     ]
    }
   ],
   "source": [
    "liste = [2,1,4,5,9,7,6,8]\n",
    "print(sum(liste))\n",
    "print(min(liste))\n",
    "print(max(liste))\n",
    "sortiert = sorted(liste)\n",
    "print(sortiert)\n"
   ],
   "metadata": {
    "collapsed": false,
    "pycharm": {
     "name": "#%%\n"
    }
   }
  },
  {
   "cell_type": "markdown",
   "source": [
    "Unpacking (= auspacken): schnell mehrere Variablen zuordnen:"
   ],
   "metadata": {
    "collapsed": false,
    "pycharm": {
     "name": "#%% md\n"
    }
   }
  },
  {
   "cell_type": "code",
   "execution_count": 18,
   "outputs": [
    {
     "name": "stdout",
     "output_type": "stream",
     "text": [
      "12 13 15\n"
     ]
    }
   ],
   "source": [
    "alter = [12,13,15]\n",
    "anna = alter[0]\n",
    "lisa = alter[1]\n",
    "maria = alter[2]\n",
    "\n",
    "print(anna, lisa, maria)"
   ],
   "metadata": {
    "collapsed": false,
    "pycharm": {
     "name": "#%%\n"
    }
   }
  },
  {
   "cell_type": "code",
   "execution_count": 19,
   "outputs": [
    {
     "name": "stdout",
     "output_type": "stream",
     "text": [
      "12 13 15\n"
     ]
    }
   ],
   "source": [
    "# so geht es schneller:\n",
    "anna, lisa, maria = alter\n",
    "print(anna, lisa, maria)"
   ],
   "metadata": {
    "collapsed": false,
    "pycharm": {
     "name": "#%%\n"
    }
   }
  },
  {
   "cell_type": "markdown",
   "source": [
    "Iterable unpacking kann vor allem in for loops hilfreich sein:\n"
   ],
   "metadata": {
    "collapsed": false,
    "pycharm": {
     "name": "#%% md\n"
    }
   }
  },
  {
   "cell_type": "code",
   "execution_count": 22,
   "outputs": [
    {
     "name": "stdout",
     "output_type": "stream",
     "text": [
      "Erster Wert: 1, Zweiter Wert: 2\n",
      "Erster Wert: 10, Zweiter Wert: 20\n",
      "Erster Wert: 100, Zweiter Wert: 200\n"
     ]
    }
   ],
   "source": [
    "a = (1,2)\n",
    "b = (10,20)\n",
    "c = (100,200)\n",
    "\n",
    "for x,y in a,b,c:\n",
    "    print('Erster Wert: {}, Zweiter Wert: {}'.format(x,y))"
   ],
   "metadata": {
    "collapsed": false,
    "pycharm": {
     "name": "#%%\n"
    }
   }
  },
  {
   "cell_type": "code",
   "execution_count": 23,
   "outputs": [
    {
     "name": "stdout",
     "output_type": "stream",
     "text": [
      "ein Dackel ist ein brauner Hund und ist ziemlich schnell.\n",
      "ein Pudel ist ein grauer Hund und ist ziemlich schön.\n",
      "ein Husky ist ein weißer Hund und ist ziemlich stark.\n"
     ]
    }
   ],
   "source": [
    "dackel = ('Dackel','braun','klein')\n",
    "pudel = ('Pudel','grau','schön')\n",
    "husky = ('Husky','weiß','schnell')\n",
    "for name, farbe, eigenschaft in dackel,pudel,husky:\n",
    "    print('Ein {} ist ein {}er Hund und ist ziemlich {}.'.format(name,farbe,eigenschaft))"
   ],
   "metadata": {
    "collapsed": false,
    "pycharm": {
     "name": "#%%\n"
    }
   }
  },
  {
   "cell_type": "markdown",
   "source": [
    "um z.B. mehrere Listen als Tupel zusammenzuschließen ist der zip Befehl praktisch:"
   ],
   "metadata": {
    "collapsed": false,
    "pycharm": {
     "name": "#%% md\n"
    }
   }
  },
  {
   "cell_type": "code",
   "execution_count": 25,
   "outputs": [
    {
     "name": "stdout",
     "output_type": "stream",
     "text": [
      "ein Dackel ist ein braunerer Hund und ist ziemlich klein.\n",
      "ein Pudel ist ein grauerer Hund und ist ziemlich schön.\n",
      "ein Husky ist ein weißerer Hund und ist ziemlich schnell.\n"
     ]
    }
   ],
   "source": [
    "namen = ['Dackel','Pudel','Husky']\n",
    "eigenschaften = ['klein','schön','schnell']\n",
    "farben = ['brauner','grauer','weißer']\n",
    "\n",
    "for name,eigenschaft,farbe in zip(namen,eigenschaften,farben):\n",
    "    print('Ein {} ist ein {}er Hund und ist ziemlich {}.'.format(name,farbe,eigenschaft))"
   ],
   "metadata": {
    "collapsed": false,
    "pycharm": {
     "name": "#%%\n"
    }
   }
  },
  {
   "cell_type": "markdown",
   "source": [
    "Manchmal braucht man in einer for Schleife den Index, and dem man sich gerade befindet.\n",
    "Hier hilft der enumerate() Befehl."
   ],
   "metadata": {
    "collapsed": false,
    "pycharm": {
     "name": "#%% md\n"
    }
   }
  },
  {
   "cell_type": "code",
   "source": [
    "noten = [1,3,4,2]\n",
    "for i,note in enumerate(noten):\n",
    "    print('Auf die {}. Schularbeit hattest du eine {}.'.format(i+1,note))\n",
    "print('Deine Gesamtnote ist {}.'.format(sum(noten)/4))\n",
    "\n",
    "\n"
   ],
   "metadata": {
    "collapsed": false,
    "pycharm": {
     "name": "#%%\n"
    }
   },
   "execution_count": 30,
   "outputs": [
    {
     "name": "stdout",
     "output_type": "stream",
     "text": [
      "Auf die 1. Schularbeit hattest du eine 1.\n",
      "Auf die 2. Schularbeit hattest du eine 3.\n",
      "Auf die 3. Schularbeit hattest du eine 4.\n",
      "Auf die 4. Schularbeit hattest du eine 2.\n",
      "Deine Gesamtnote ist 2.5.\n"
     ]
    }
   ]
  }
 ],
 "metadata": {
  "kernelspec": {
   "display_name": "Python 3",
   "language": "python",
   "name": "python3"
  },
  "language_info": {
   "codemirror_mode": {
    "name": "ipython",
    "version": 2
   },
   "file_extension": ".py",
   "mimetype": "text/x-python",
   "name": "python",
   "nbconvert_exporter": "python",
   "pygments_lexer": "ipython2",
   "version": "2.7.6"
  }
 },
 "nbformat": 4,
 "nbformat_minor": 0
}